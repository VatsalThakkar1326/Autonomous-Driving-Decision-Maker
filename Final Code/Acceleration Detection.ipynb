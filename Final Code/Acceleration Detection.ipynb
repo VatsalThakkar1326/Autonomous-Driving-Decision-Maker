{
 "cells": [
  {
   "cell_type": "code",
   "execution_count": 1,
   "metadata": {},
   "outputs": [
    {
     "name": "stderr",
     "output_type": "stream",
     "text": [
      "C:\\Users\\14374\\AppData\\Roaming\\Python\\Python310\\site-packages\\sklearn\\base.py:376: InconsistentVersionWarning: Trying to unpickle estimator DecisionTreeClassifier from version 1.4.0 when using version 1.4.1.post1. This might lead to breaking code or invalid results. Use at your own risk. For more info please refer to:\n",
      "https://scikit-learn.org/stable/model_persistence.html#security-maintainability-limitations\n",
      "  warnings.warn(\n",
      "C:\\Users\\14374\\AppData\\Roaming\\Python\\Python310\\site-packages\\sklearn\\base.py:376: InconsistentVersionWarning: Trying to unpickle estimator RandomForestClassifier from version 1.4.0 when using version 1.4.1.post1. This might lead to breaking code or invalid results. Use at your own risk. For more info please refer to:\n",
      "https://scikit-learn.org/stable/model_persistence.html#security-maintainability-limitations\n",
      "  warnings.warn(\n"
     ]
    },
    {
     "name": "stdout",
     "output_type": "stream",
     "text": [
      "Process aborted.\n"
     ]
    }
   ],
   "source": [
    "import pandas as pd\n",
    "import joblib\n",
    "import time\n",
    "import random\n",
    "\n",
    "# Load the saved model\n",
    "model_path = r\"C:\\Users\\14374\\Downloads\\modelR_model (3).h5\"\n",
    "loaded_model = joblib.load(model_path)\n",
    "\n",
    "# Load the test data from the specified file\n",
    "test_file_path = r\"C:\\Users\\14374\\Downloads\\test_motion_data (1).csv\"\n",
    "test_data = pd.read_csv(test_file_path)\n",
    "\n",
    "# Output file path\n",
    "output_file_path = \"C:\\\\Users\\\\14374\\\\Desktop\\\\Vatsal\\\\output.txt\"\n",
    "\n",
    "# Function to predict behavior based on input values\n",
    "def predict_behavior(AccX, AccY, AccZ, GyroX, GyroY, GyroZ):\n",
    "    # Create a DataFrame with the input features\n",
    "    input_data = [[AccX, AccY, AccZ, GyroX, GyroY, GyroZ]]\n",
    "    input_df = pd.DataFrame(input_data, columns=['AccX', 'AccY', 'AccZ', 'GyroX', 'GyroY', 'GyroZ'])\n",
    "\n",
    "    # Use the loaded model for prediction\n",
    "    prediction = loaded_model.predict(input_df)\n",
    "\n",
    "    # Map the numerical class back to original labels\n",
    "    behavior_mapping = {1: 'Aggressive', 2: 'Normal', 3: 'Slow'}\n",
    "    predicted_behavior = behavior_mapping[prediction[0]]\n",
    "\n",
    "    return predicted_behavior\n",
    "\n",
    "try:\n",
    "    line_count = 0\n",
    "    with open(output_file_path, \"w\") as file:\n",
    "        while True:\n",
    "            # Randomly select a row from the test data\n",
    "            random_row = test_data.sample(n=1).iloc[0]\n",
    "\n",
    "            # Extract values from the randomly selected row\n",
    "            AccX, AccY, AccZ, GyroX, GyroY, GyroZ = random_row['AccX'], random_row['AccY'], random_row['AccZ'], random_row['GyroX'], random_row['GyroY'], random_row['GyroZ']\n",
    "\n",
    "            # Use the prediction function for the input values\n",
    "            predicted_class = predict_behavior(AccX, AccY, AccZ, GyroX, GyroY, GyroZ)\n",
    "\n",
    "            # Write the prediction to the output file in real-time\n",
    "            file.write(predicted_class +\"\\n\")\n",
    "            file.flush()\n",
    "\n",
    "            line_count += 1\n",
    "            if line_count >= 500:\n",
    "                # If 500 lines are reached, erase the data and start writing again from the beginning\n",
    "                file.seek(0)\n",
    "                file.truncate()\n",
    "                line_count = 0\n",
    "\n",
    "            # Wait for a moment before processing the next row\n",
    "            time.sleep(1 / 100)\n",
    "\n",
    "except KeyboardInterrupt:\n",
    "    print(\"Process aborted.\")\n"
   ]
  },
  {
   "cell_type": "code",
   "execution_count": null,
   "metadata": {},
   "outputs": [],
   "source": []
  }
 ],
 "metadata": {
  "kernelspec": {
   "display_name": "Python 3",
   "language": "python",
   "name": "python3"
  },
  "language_info": {
   "codemirror_mode": {
    "name": "ipython",
    "version": 3
   },
   "file_extension": ".py",
   "mimetype": "text/x-python",
   "name": "python",
   "nbconvert_exporter": "python",
   "pygments_lexer": "ipython3",
   "version": "3.10.11"
  }
 },
 "nbformat": 4,
 "nbformat_minor": 2
}
